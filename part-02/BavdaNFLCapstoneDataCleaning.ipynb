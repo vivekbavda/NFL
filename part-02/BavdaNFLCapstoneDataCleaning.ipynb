{
 "cells": [
  {
   "cell_type": "code",
   "execution_count": 1,
   "id": "bc4def5c",
   "metadata": {},
   "outputs": [],
   "source": [
    "import pandas as pd\n",
    "import numpy as np\n",
    "import matplotlib.pyplot as plt\n",
    "import seaborn as sns\n",
    "import re\n",
    "from tqdm import tqdm\n",
    "from pprint import pprint\n",
    "%matplotlib inline\n",
    "\n",
    "\n",
    "from sklearn.preprocessing import StandardScaler\n",
    "from sklearn.model_selection import cross_val_score, KFold, train_test_split, cross_validate, cross_val_predict\n",
    "from sklearn.ensemble import RandomForestClassifier\n",
    "from sklearn import metrics\n",
    "from sklearn.pipeline import Pipeline\n",
    "from sklearn.model_selection import GridSearchCV\n",
    "from sklearn.neighbors import KNeighborsClassifier\n",
    "from sklearn.linear_model import LogisticRegression\n",
    "\n",
    "from tensorflow.keras.models import Sequential\n",
    "from tensorflow.keras.layers import Dense\n",
    "from tensorflow.keras.utils import to_categorical"
   ]
  },
  {
   "cell_type": "code",
   "execution_count": 2,
   "id": "d3d68f59",
   "metadata": {},
   "outputs": [
    {
     "ename": "FileNotFoundError",
     "evalue": "[Errno 2] No such file or directory: './Data/2020_Team_DVOA_Ratings_Overall.csv'",
     "output_type": "error",
     "traceback": [
      "\u001b[0;31m---------------------------------------------------------------------------\u001b[0m",
      "\u001b[0;31mFileNotFoundError\u001b[0m                         Traceback (most recent call last)",
      "\u001b[0;32m<ipython-input-2-58709ed58483>\u001b[0m in \u001b[0;36m<module>\u001b[0;34m\u001b[0m\n\u001b[0;32m----> 1\u001b[0;31m \u001b[0mdf20t\u001b[0m\u001b[0;34m=\u001b[0m \u001b[0mpd\u001b[0m\u001b[0;34m.\u001b[0m\u001b[0mread_csv\u001b[0m\u001b[0;34m(\u001b[0m\u001b[0;34m'./Data/2020_Team_DVOA_Ratings_Overall.csv'\u001b[0m\u001b[0;34m)\u001b[0m\u001b[0;34m\u001b[0m\u001b[0;34m\u001b[0m\u001b[0m\n\u001b[0m\u001b[1;32m      2\u001b[0m \u001b[0;34m\u001b[0m\u001b[0m\n\u001b[1;32m      3\u001b[0m \u001b[0mdf20t\u001b[0m\u001b[0;34m[\u001b[0m\u001b[0;34m'Team'\u001b[0m\u001b[0;34m]\u001b[0m\u001b[0;34m\u001b[0m\u001b[0;34m\u001b[0m\u001b[0m\n",
      "\u001b[0;32m~/opt/anaconda3/lib/python3.8/site-packages/pandas/io/parsers.py\u001b[0m in \u001b[0;36mread_csv\u001b[0;34m(filepath_or_buffer, sep, delimiter, header, names, index_col, usecols, squeeze, prefix, mangle_dupe_cols, dtype, engine, converters, true_values, false_values, skipinitialspace, skiprows, skipfooter, nrows, na_values, keep_default_na, na_filter, verbose, skip_blank_lines, parse_dates, infer_datetime_format, keep_date_col, date_parser, dayfirst, cache_dates, iterator, chunksize, compression, thousands, decimal, lineterminator, quotechar, quoting, doublequote, escapechar, comment, encoding, dialect, error_bad_lines, warn_bad_lines, delim_whitespace, low_memory, memory_map, float_precision, storage_options)\u001b[0m\n\u001b[1;32m    608\u001b[0m     \u001b[0mkwds\u001b[0m\u001b[0;34m.\u001b[0m\u001b[0mupdate\u001b[0m\u001b[0;34m(\u001b[0m\u001b[0mkwds_defaults\u001b[0m\u001b[0;34m)\u001b[0m\u001b[0;34m\u001b[0m\u001b[0;34m\u001b[0m\u001b[0m\n\u001b[1;32m    609\u001b[0m \u001b[0;34m\u001b[0m\u001b[0m\n\u001b[0;32m--> 610\u001b[0;31m     \u001b[0;32mreturn\u001b[0m \u001b[0m_read\u001b[0m\u001b[0;34m(\u001b[0m\u001b[0mfilepath_or_buffer\u001b[0m\u001b[0;34m,\u001b[0m \u001b[0mkwds\u001b[0m\u001b[0;34m)\u001b[0m\u001b[0;34m\u001b[0m\u001b[0;34m\u001b[0m\u001b[0m\n\u001b[0m\u001b[1;32m    611\u001b[0m \u001b[0;34m\u001b[0m\u001b[0m\n\u001b[1;32m    612\u001b[0m \u001b[0;34m\u001b[0m\u001b[0m\n",
      "\u001b[0;32m~/opt/anaconda3/lib/python3.8/site-packages/pandas/io/parsers.py\u001b[0m in \u001b[0;36m_read\u001b[0;34m(filepath_or_buffer, kwds)\u001b[0m\n\u001b[1;32m    460\u001b[0m \u001b[0;34m\u001b[0m\u001b[0m\n\u001b[1;32m    461\u001b[0m     \u001b[0;31m# Create the parser.\u001b[0m\u001b[0;34m\u001b[0m\u001b[0;34m\u001b[0m\u001b[0;34m\u001b[0m\u001b[0m\n\u001b[0;32m--> 462\u001b[0;31m     \u001b[0mparser\u001b[0m \u001b[0;34m=\u001b[0m \u001b[0mTextFileReader\u001b[0m\u001b[0;34m(\u001b[0m\u001b[0mfilepath_or_buffer\u001b[0m\u001b[0;34m,\u001b[0m \u001b[0;34m**\u001b[0m\u001b[0mkwds\u001b[0m\u001b[0;34m)\u001b[0m\u001b[0;34m\u001b[0m\u001b[0;34m\u001b[0m\u001b[0m\n\u001b[0m\u001b[1;32m    463\u001b[0m \u001b[0;34m\u001b[0m\u001b[0m\n\u001b[1;32m    464\u001b[0m     \u001b[0;32mif\u001b[0m \u001b[0mchunksize\u001b[0m \u001b[0;32mor\u001b[0m \u001b[0miterator\u001b[0m\u001b[0;34m:\u001b[0m\u001b[0;34m\u001b[0m\u001b[0;34m\u001b[0m\u001b[0m\n",
      "\u001b[0;32m~/opt/anaconda3/lib/python3.8/site-packages/pandas/io/parsers.py\u001b[0m in \u001b[0;36m__init__\u001b[0;34m(self, f, engine, **kwds)\u001b[0m\n\u001b[1;32m    817\u001b[0m             \u001b[0mself\u001b[0m\u001b[0;34m.\u001b[0m\u001b[0moptions\u001b[0m\u001b[0;34m[\u001b[0m\u001b[0;34m\"has_index_names\"\u001b[0m\u001b[0;34m]\u001b[0m \u001b[0;34m=\u001b[0m \u001b[0mkwds\u001b[0m\u001b[0;34m[\u001b[0m\u001b[0;34m\"has_index_names\"\u001b[0m\u001b[0;34m]\u001b[0m\u001b[0;34m\u001b[0m\u001b[0;34m\u001b[0m\u001b[0m\n\u001b[1;32m    818\u001b[0m \u001b[0;34m\u001b[0m\u001b[0m\n\u001b[0;32m--> 819\u001b[0;31m         \u001b[0mself\u001b[0m\u001b[0;34m.\u001b[0m\u001b[0m_engine\u001b[0m \u001b[0;34m=\u001b[0m \u001b[0mself\u001b[0m\u001b[0;34m.\u001b[0m\u001b[0m_make_engine\u001b[0m\u001b[0;34m(\u001b[0m\u001b[0mself\u001b[0m\u001b[0;34m.\u001b[0m\u001b[0mengine\u001b[0m\u001b[0;34m)\u001b[0m\u001b[0;34m\u001b[0m\u001b[0;34m\u001b[0m\u001b[0m\n\u001b[0m\u001b[1;32m    820\u001b[0m \u001b[0;34m\u001b[0m\u001b[0m\n\u001b[1;32m    821\u001b[0m     \u001b[0;32mdef\u001b[0m \u001b[0mclose\u001b[0m\u001b[0;34m(\u001b[0m\u001b[0mself\u001b[0m\u001b[0;34m)\u001b[0m\u001b[0;34m:\u001b[0m\u001b[0;34m\u001b[0m\u001b[0;34m\u001b[0m\u001b[0m\n",
      "\u001b[0;32m~/opt/anaconda3/lib/python3.8/site-packages/pandas/io/parsers.py\u001b[0m in \u001b[0;36m_make_engine\u001b[0;34m(self, engine)\u001b[0m\n\u001b[1;32m   1048\u001b[0m             )\n\u001b[1;32m   1049\u001b[0m         \u001b[0;31m# error: Too many arguments for \"ParserBase\"\u001b[0m\u001b[0;34m\u001b[0m\u001b[0;34m\u001b[0m\u001b[0;34m\u001b[0m\u001b[0m\n\u001b[0;32m-> 1050\u001b[0;31m         \u001b[0;32mreturn\u001b[0m \u001b[0mmapping\u001b[0m\u001b[0;34m[\u001b[0m\u001b[0mengine\u001b[0m\u001b[0;34m]\u001b[0m\u001b[0;34m(\u001b[0m\u001b[0mself\u001b[0m\u001b[0;34m.\u001b[0m\u001b[0mf\u001b[0m\u001b[0;34m,\u001b[0m \u001b[0;34m**\u001b[0m\u001b[0mself\u001b[0m\u001b[0;34m.\u001b[0m\u001b[0moptions\u001b[0m\u001b[0;34m)\u001b[0m  \u001b[0;31m# type: ignore[call-arg]\u001b[0m\u001b[0;34m\u001b[0m\u001b[0;34m\u001b[0m\u001b[0m\n\u001b[0m\u001b[1;32m   1051\u001b[0m \u001b[0;34m\u001b[0m\u001b[0m\n\u001b[1;32m   1052\u001b[0m     \u001b[0;32mdef\u001b[0m \u001b[0m_failover_to_python\u001b[0m\u001b[0;34m(\u001b[0m\u001b[0mself\u001b[0m\u001b[0;34m)\u001b[0m\u001b[0;34m:\u001b[0m\u001b[0;34m\u001b[0m\u001b[0;34m\u001b[0m\u001b[0m\n",
      "\u001b[0;32m~/opt/anaconda3/lib/python3.8/site-packages/pandas/io/parsers.py\u001b[0m in \u001b[0;36m__init__\u001b[0;34m(self, src, **kwds)\u001b[0m\n\u001b[1;32m   1865\u001b[0m \u001b[0;34m\u001b[0m\u001b[0m\n\u001b[1;32m   1866\u001b[0m         \u001b[0;31m# open handles\u001b[0m\u001b[0;34m\u001b[0m\u001b[0;34m\u001b[0m\u001b[0;34m\u001b[0m\u001b[0m\n\u001b[0;32m-> 1867\u001b[0;31m         \u001b[0mself\u001b[0m\u001b[0;34m.\u001b[0m\u001b[0m_open_handles\u001b[0m\u001b[0;34m(\u001b[0m\u001b[0msrc\u001b[0m\u001b[0;34m,\u001b[0m \u001b[0mkwds\u001b[0m\u001b[0;34m)\u001b[0m\u001b[0;34m\u001b[0m\u001b[0;34m\u001b[0m\u001b[0m\n\u001b[0m\u001b[1;32m   1868\u001b[0m         \u001b[0;32massert\u001b[0m \u001b[0mself\u001b[0m\u001b[0;34m.\u001b[0m\u001b[0mhandles\u001b[0m \u001b[0;32mis\u001b[0m \u001b[0;32mnot\u001b[0m \u001b[0;32mNone\u001b[0m\u001b[0;34m\u001b[0m\u001b[0;34m\u001b[0m\u001b[0m\n\u001b[1;32m   1869\u001b[0m         \u001b[0;32mfor\u001b[0m \u001b[0mkey\u001b[0m \u001b[0;32min\u001b[0m \u001b[0;34m(\u001b[0m\u001b[0;34m\"storage_options\"\u001b[0m\u001b[0;34m,\u001b[0m \u001b[0;34m\"encoding\"\u001b[0m\u001b[0;34m,\u001b[0m \u001b[0;34m\"memory_map\"\u001b[0m\u001b[0;34m,\u001b[0m \u001b[0;34m\"compression\"\u001b[0m\u001b[0;34m)\u001b[0m\u001b[0;34m:\u001b[0m\u001b[0;34m\u001b[0m\u001b[0;34m\u001b[0m\u001b[0m\n",
      "\u001b[0;32m~/opt/anaconda3/lib/python3.8/site-packages/pandas/io/parsers.py\u001b[0m in \u001b[0;36m_open_handles\u001b[0;34m(self, src, kwds)\u001b[0m\n\u001b[1;32m   1360\u001b[0m         \u001b[0mLet\u001b[0m \u001b[0mthe\u001b[0m \u001b[0mreaders\u001b[0m \u001b[0mopen\u001b[0m \u001b[0mIOHanldes\u001b[0m \u001b[0mafter\u001b[0m \u001b[0mthey\u001b[0m \u001b[0mare\u001b[0m \u001b[0mdone\u001b[0m \u001b[0;32mwith\u001b[0m \u001b[0mtheir\u001b[0m \u001b[0mpotential\u001b[0m \u001b[0mraises\u001b[0m\u001b[0;34m.\u001b[0m\u001b[0;34m\u001b[0m\u001b[0;34m\u001b[0m\u001b[0m\n\u001b[1;32m   1361\u001b[0m         \"\"\"\n\u001b[0;32m-> 1362\u001b[0;31m         self.handles = get_handle(\n\u001b[0m\u001b[1;32m   1363\u001b[0m             \u001b[0msrc\u001b[0m\u001b[0;34m,\u001b[0m\u001b[0;34m\u001b[0m\u001b[0;34m\u001b[0m\u001b[0m\n\u001b[1;32m   1364\u001b[0m             \u001b[0;34m\"r\"\u001b[0m\u001b[0;34m,\u001b[0m\u001b[0;34m\u001b[0m\u001b[0;34m\u001b[0m\u001b[0m\n",
      "\u001b[0;32m~/opt/anaconda3/lib/python3.8/site-packages/pandas/io/common.py\u001b[0m in \u001b[0;36mget_handle\u001b[0;34m(path_or_buf, mode, encoding, compression, memory_map, is_text, errors, storage_options)\u001b[0m\n\u001b[1;32m    640\u001b[0m                 \u001b[0merrors\u001b[0m \u001b[0;34m=\u001b[0m \u001b[0;34m\"replace\"\u001b[0m\u001b[0;34m\u001b[0m\u001b[0;34m\u001b[0m\u001b[0m\n\u001b[1;32m    641\u001b[0m             \u001b[0;31m# Encoding\u001b[0m\u001b[0;34m\u001b[0m\u001b[0;34m\u001b[0m\u001b[0;34m\u001b[0m\u001b[0m\n\u001b[0;32m--> 642\u001b[0;31m             handle = open(\n\u001b[0m\u001b[1;32m    643\u001b[0m                 \u001b[0mhandle\u001b[0m\u001b[0;34m,\u001b[0m\u001b[0;34m\u001b[0m\u001b[0;34m\u001b[0m\u001b[0m\n\u001b[1;32m    644\u001b[0m                 \u001b[0mioargs\u001b[0m\u001b[0;34m.\u001b[0m\u001b[0mmode\u001b[0m\u001b[0;34m,\u001b[0m\u001b[0;34m\u001b[0m\u001b[0;34m\u001b[0m\u001b[0m\n",
      "\u001b[0;31mFileNotFoundError\u001b[0m: [Errno 2] No such file or directory: './Data/2020_Team_DVOA_Ratings_Overall.csv'"
     ]
    }
   ],
   "source": [
    "df20t= pd.read_csv('./Data/2020_Team_DVOA_Ratings_Overall.csv')\n",
    "\n",
    "df20t['Team']"
   ]
  },
  {
   "cell_type": "code",
   "execution_count": null,
   "id": "0d4afa7e",
   "metadata": {},
   "outputs": [],
   "source": [
    "df20t1c= pd.read_csv('./Data/2020_Team_DVOA_Ratings_ Overall_ after_Week_1_convert.csv')\n",
    "df20t1c.dtypes"
   ]
  },
  {
   "cell_type": "code",
   "execution_count": null,
   "id": "7271f2d2",
   "metadata": {},
   "outputs": [],
   "source": [
    "\n",
    "#df20t1c['TotalDVOAteam1']=df20t1c['TotalDVOAteam1'].astype('float64')\n",
    "#df20t1c['TotalDVOAteam1']=pd.to_numeric(df20t1c['TotalDVOAteam1'], errors='coerce')\n",
    "df20t1c['TotalDVOAteam1'].dtypes"
   ]
  },
  {
   "cell_type": "code",
   "execution_count": null,
   "id": "765e7b9d",
   "metadata": {},
   "outputs": [],
   "source": [
    "df20t1c['TotalDVOAteam1'].describe()"
   ]
  },
  {
   "cell_type": "code",
   "execution_count": null,
   "id": "155a768e",
   "metadata": {},
   "outputs": [],
   "source": [
    "df20t1= pd.read_csv('./Data/2020_Team_DVOA_Ratings_ Overall_ after_Week_1.csv')\n",
    "df20t1b=df20t1\n",
    "#df20t1b=df20t1b.reindex(['19', '3', '21', '3', '23', '17', '29', '8', '7', '25', '15', '22', '30', '24', '16']) #,\"10\", '14','5', '27', '0', '28', '2', '11, \"4\", \"13\", \"9\", \"31\", \"18\", \"20\", \"6\", \"12\", \"26\"])\n",
    "df20t1b  "
   ]
  },
  {
   "cell_type": "code",
   "execution_count": null,
   "id": "322abec9",
   "metadata": {},
   "outputs": [],
   "source": [
    "df20t2= pd.read_csv('./Data/2020_Team_DVOA_Ratings_Overall_after_Week_2.csv')\n",
    "df20t2"
   ]
  },
  {
   "cell_type": "code",
   "execution_count": null,
   "id": "02372935",
   "metadata": {},
   "outputs": [],
   "source": [
    "df20t2c= pd.read_csv('./Data/2020_Team_DVOA_Ratings_Overall_after_Week_2 _convert.csv')\n",
    "df20t2c.describe()"
   ]
  },
  {
   "cell_type": "code",
   "execution_count": null,
   "id": "b3bac3b0",
   "metadata": {},
   "outputs": [],
   "source": [
    "df20t3= pd.read_csv('./Data/2020_Team_DVOA_Ratings_Overall_after_Week_3.csv')\n",
    "df20t3"
   ]
  },
  {
   "cell_type": "code",
   "execution_count": null,
   "id": "3945e04e",
   "metadata": {},
   "outputs": [],
   "source": [
    "df20t3c= pd.read_csv('./Data/2020_Team_DVOA_Ratings_Overall_after_Week_3_convert.csv')\n",
    "df20t3c.columns"
   ]
  },
  {
   "cell_type": "code",
   "execution_count": null,
   "id": "83983c84",
   "metadata": {},
   "outputs": [],
   "source": [
    "df20t3c.describe()"
   ]
  },
  {
   "cell_type": "code",
   "execution_count": null,
   "id": "992d14ce",
   "metadata": {},
   "outputs": [],
   "source": [
    "df20t4= pd.read_csv('./Data/2020_Team_DVOA_Ratings_Overall_after_Week_4.csv')\n",
    "df20t4b=df20t4\n",
    "df20t4d=df20t4\n",
    "df20t4b.describe()\n",
    "# #put win loss\n",
    "df20t4b=(df20t4b.drop(index=[4,16,23,30]))\n",
    "df20t4b.describe()\n",
    "df20t4b['W-L']=[0,0,1,0,1,\n",
    "                1,1,0,0,1,\n",
    "                1,0,1,0,1,\n",
    "                0,1,0,1,1,\n",
    "                1,1,1,0,0,\n",
    "                0,0,0]\n",
    "df20t4b.describe()\n",
    "df20t4d=df20t4b\n",
    "df20t4b.describe()\n",
    "#Change column name\n",
    "df20t4b=df20t4b.rename(columns={'Team':'Team', 'W-L':'W-L','Total DVOA Rank':'TotalDVOARankteam1', ' Total DVOA ':'TotalDVOAteam1','Weighted DVOA Rank':'WeightedDVOARankteam1','Weighted DVOA':'WeightedDVOAteam1', 'Offense DVOA Rank':'OffenseDVOARankteam1','Offense DVOA':'Offense DVOAteam1','Offense Weighted DVOA Rank':'OffenseWeightedDVOARankteam1','Offense Weighted DVOA':'OffenseWeightedDVOAteam1', 'Defense DVOA Rank':'DefenseDVOARankteam1','Defense DVOA':'DefenseDVOAteam1','Defense Weighted DVOA Rank':'DefenseWeightedDVOARankteam1', 'Defense Weighted DVOA':'DefenseWeightedDVOAteam1','Special Teams DVOA Rank':'SpecialTeamsDVOARankteam1', 'Special Teams DVOA': 'Special Teams DVOA','Special Teams Weighted DVOA Rank':'SpecialTeamsWeightedDVOARankteam1', 'Special Teams Weighted DVOA':'SpecialTeamsWeightedDVOAteam1'})\n",
    "df20t4b.columns\n",
    "df20t4b['Team 2']=['CHI', 'LV', 'CIN', 'CLE', 'MIN', 'PHI', 'LAC', 'MIA', 'TEN', 'WAS', 'IND', 'SEA', 'BUF', 'HOU', 'NYG', 'NO', 'ATL', 'BAL', 'JAX', 'TB', 'NYJ', 'KC', 'SF', 'CAR', 'LAR', 'ARI', 'PIT', 'DAL']\n",
    "                                 \n",
    "# ''Team', 'W-L', 'Total DVOA Rank', 'Total DVOA', 'Weighted DVOA Rank',\n",
    "#        'Weighted DVOA', 'Offense DVOA Rank', 'Offense DVOA',\n",
    "#        'Offense Weighted DVOA Rank', 'Offense Weighted DVOA',\n",
    "#        'Defense DVOA Rank', 'Defense DVOA', 'Defense Weighted DVOA Rank',\n",
    "#        'Defense Weighted DVOA',\n",
    "#                                  'Special Teams DVOA Rank',\n",
    "#                                    'Special Teams DVOA', \n",
    "#                                  'Special Teams Weighted DVOA Rank',\n",
    "#                                'Special Teams Weighted DVOA'                               \n",
    "                                \n",
    "#                                  'Team', 'W-L', 'TotalDVOARankteam1', 'TotalDVOAteam1',\n",
    "#        'WeightedDVOARankteam1', 'WeightedDVOAteam1', 'OffenseDVOARankteam1',\n",
    "#        'Offense DVOAteam1', 'OffenseWeightedDVOARankteam1',\n",
    "#        'OffenseWeightedDVOAteam1', 'DefenseDVOARankteam1', 'DefenseDVOAteam1',\n",
    "#        'DefenseWeightedDVOARankteam1', 'DefenseWeightedDVOAteam1',\n",
    "#        'SpecialTeamsDVOARankteam1', 'Special Teams DVOA',\n",
    "#        'SpecialTeamsWeightedDVOARankteam1', 'SpecialTeamsWeightedDVOAteam1'\n",
    "#change column name\n",
    "df20t4d['Home 1st team']=[0,1,1,0,1,1,1,1,0,0,1,0,1,0,1,0,0,0,1,1,0,0,0,1,1,1,0,0]\n",
    "#change win loss\n",
    "df20t4d=df20t4d.rename(columns={'W-L':'W-L.1', 'Special Teams DVOA':'Special Teams DVOA.1', 'Team':'Team 2'})\n",
    "#df20t4d['Team 2']=['CHI', 'LV', 'CIN', 'CLE', 'MIN', 'PHI', 'LAC', 'MIA', 'TEN', 'WAS', 'IND', 'SEA', 'BUF', 'HOU', 'NYG', 'NO', 'ATL', 'BAL', 'JAX', 'TB', 'NYJ', 'KC', 'SF', 'CAR', 'LAR', 'ARI', 'PIT', 'DAL']\n",
    "df20t4d['W-L.1']=[1,1,0,1,0,0,0,1,1,0,0,1,0,1,0,1,0,1,0,0,0,0,0,1,1,1,1,1]\n",
    "#add home field\n",
    "#merge on  opponent team\n",
    "df20t4c=pd.merge(df20t4b, df20t4d, how='outer' ,on=['Team 2'])\n",
    "\n",
    "df20t4c.columns\n"
   ]
  },
  {
   "cell_type": "code",
   "execution_count": null,
   "id": "0e9f364c",
   "metadata": {},
   "outputs": [],
   "source": []
  },
  {
   "cell_type": "code",
   "execution_count": null,
   "id": "75546942",
   "metadata": {},
   "outputs": [],
   "source": [
    "df20t5= pd.read_csv('./Data/2020_Team_DVOA_Ratings_Overall_after_Week_5.csv')\n",
    "df20t5"
   ]
  },
  {
   "cell_type": "code",
   "execution_count": null,
   "id": "8dd33456",
   "metadata": {},
   "outputs": [],
   "source": [
    "df20t6= pd.read_csv('./Data/2020_Team_DVOA_Ratings_Overall_after_Week_6.csv')\n",
    "df20t6.columns"
   ]
  },
  {
   "cell_type": "code",
   "execution_count": null,
   "id": "649185cd",
   "metadata": {},
   "outputs": [],
   "source": [
    "df20t7= pd.read_csv('./Data/2020_Team_DVOA_Ratings_Overall_after_Week_7.csv')\n",
    "df20t7"
   ]
  },
  {
   "cell_type": "code",
   "execution_count": null,
   "id": "fa7d02b7",
   "metadata": {},
   "outputs": [],
   "source": [
    "df20t8= pd.read_csv('./Data/2020_Team_DVOA_Ratings_Overall_after_Week_8.csv')\n",
    "df20t8"
   ]
  },
  {
   "cell_type": "code",
   "execution_count": null,
   "id": "3ba9ae9a",
   "metadata": {},
   "outputs": [],
   "source": [
    "df20t9= pd.read_csv('./Data/2020_Team_DVOA_Ratings_Overall_after_Week_9.csv')\n",
    "df20t9"
   ]
  },
  {
   "cell_type": "code",
   "execution_count": null,
   "id": "310de155",
   "metadata": {},
   "outputs": [],
   "source": [
    "df20t10= pd.read_csv('./Data/2020_Team_DVOA_Ratings_Overall_after_Week_10.csv')\n",
    "df20t10"
   ]
  },
  {
   "cell_type": "code",
   "execution_count": null,
   "id": "eb491ce0",
   "metadata": {},
   "outputs": [],
   "source": [
    "df20t11= pd.read_csv('./Data/2020_Team_DVOA_Ratings_Overall_after_Week_11.csv')\n",
    "df20t11"
   ]
  },
  {
   "cell_type": "code",
   "execution_count": null,
   "id": "ad584d95",
   "metadata": {},
   "outputs": [],
   "source": [
    "df20t12= pd.read_csv('./Data/2020_Team_DVOA_Ratings_Overall_after_Week_12.csv')\n",
    "df20t12"
   ]
  },
  {
   "cell_type": "code",
   "execution_count": null,
   "id": "0b81cb6b",
   "metadata": {},
   "outputs": [],
   "source": [
    "df20t13= pd.read_csv('./Data/2020_Team_DVOA_Ratings_Overall_after_Week_13.csv')\n",
    "df20t13"
   ]
  },
  {
   "cell_type": "code",
   "execution_count": null,
   "id": "2feb30f5",
   "metadata": {},
   "outputs": [],
   "source": [
    "df20t14= pd.read_csv('./Data/2020_Team_DVOA_Ratings_Overall_after_Week_14.csv')\n",
    "df20t14"
   ]
  },
  {
   "cell_type": "code",
   "execution_count": null,
   "id": "8a849ded",
   "metadata": {},
   "outputs": [],
   "source": [
    "df20t15= pd.read_csv('./Data/2020_Team_DVOA_Ratings_Overall_after_Week_15.csv')\n",
    "df20t15"
   ]
  },
  {
   "cell_type": "code",
   "execution_count": null,
   "id": "82f39ade",
   "metadata": {},
   "outputs": [],
   "source": [
    "df20t16= pd.read_csv('./Data/2020_Team_DVOA_Ratings_Overall_after_Week_16.csv')\n",
    "df20t16"
   ]
  },
  {
   "cell_type": "code",
   "execution_count": null,
   "id": "b7325945",
   "metadata": {},
   "outputs": [],
   "source": [
    "df20t17= pd.read_csv('./Data/2020_Team_DVOA_Ratings_Overall_after_Week_17.csv')\n"
   ]
  },
  {
   "cell_type": "code",
   "execution_count": null,
   "id": "c6aff6d6",
   "metadata": {},
   "outputs": [],
   "source": [
    "combine = [df20t1, df20t2, df20t3, df20t4, df20t5, df20t6, df20t7, df20t8, df20t9, df20t10, df20t11, df20t12,\\\n",
    "           df20t13, df20t14, df20t15, df20t16, df20t17]\n",
    "dfactual=pd.concat(combine)\n",
    "dfactual"
   ]
  },
  {
   "cell_type": "code",
   "execution_count": null,
   "id": "281a3a0f",
   "metadata": {},
   "outputs": [],
   "source": [
    "combineprojected=[df20t1c, df20t2c, df20t3c, df20t4c]"
   ]
  },
  {
   "cell_type": "code",
   "execution_count": null,
   "id": "c71ca8d2",
   "metadata": {},
   "outputs": [],
   "source": [
    "dfprojected=pd.concat(combineprojected)\n",
    "dfprojected"
   ]
  },
  {
   "cell_type": "code",
   "execution_count": null,
   "id": "c5ddded0",
   "metadata": {},
   "outputs": [],
   "source": [
    "dfprojected.columns"
   ]
  },
  {
   "cell_type": "code",
   "execution_count": null,
   "id": "24259c25",
   "metadata": {},
   "outputs": [],
   "source": [
    "# features=['TotalDVOAteam1', 'WeightedDVOAteam1','Offense DVOAteam1', 'OffenseWeightedDVOAteam1', 'DefenseDVOAteam1','DefenseWeightedDVOAteam1', 'Special Teams DVOA', 'SpecialTeamsWeightedDVOAteam1', 'Total DVOA',\n",
    "# 'Weighted DVOA Rank', 'Weighted DVOA', 'Offense DVOA Rank','Offense DVOA', 'Offense Weighted DVOA', 'Defense DVOA','Defense Weighted DVOA', 'Special Teams DVOA.1',\n",
    "# 'Special Teams Weighted DVOA', 'Home 1st team']\n",
    "features=['OffenseWeightedDVOAteam1', 'DefenseWeightedDVOAteam1', 'SpecialTeamsWeightedDVOAteam1', 'Offense Weighted DVOA', 'Defense Weighted DVOA', 'Special Teams Weighted DVOA', 'Home 1st team']\n",
    "target='W-L'"
   ]
  },
  {
   "cell_type": "code",
   "execution_count": null,
   "id": "58b8bde1",
   "metadata": {},
   "outputs": [],
   "source": [
    "X=dfprojected[features]\n",
    "y=dfprojected[target]"
   ]
  },
  {
   "cell_type": "code",
   "execution_count": null,
   "id": "63292836",
   "metadata": {},
   "outputs": [],
   "source": [
    "#instantiation\n",
    "lr=LogisticRegression()\n",
    "knn= KNeighborsClassifier(n_neighbors=1, weights='distance', metric='euclidean')\n",
    "rf=RandomForestClassifier(n_estimators=25, n_jobs=-1)"
   ]
  },
  {
   "cell_type": "code",
   "execution_count": null,
   "id": "6b6d0a70",
   "metadata": {},
   "outputs": [],
   "source": [
    "#Cross val scores\n",
    "lr_scores = cross_val_score(lr, X, y, cv=KFold(n_splits=7, shuffle=True, random_state=42))\n",
    "knn_scores=cross_val_score(knn, X, y, cv=KFold(n_splits=7, shuffle=True, random_state=42))\n",
    "rf_scores=cross_val_score(rf, X, y, cv=KFold(n_splits=7, shuffle=True, random_state=42))\n",
    "\n",
    "print('logreg', round (lr_scores.mean(), 3), '+-', round (2 *lr_scores.std(), 3))\n",
    "print('KNN', round (knn_scores.mean(), 3), '+-', round (2 *lr_scores.std(), 3))\n",
    "print('RF', round (rf_scores.mean(), 3), '+-', round (2 *lr_scores.std(), 3))\n",
    "#Sophie Tabac's lesson nlp modeling walkthrough"
   ]
  },
  {
   "cell_type": "code",
   "execution_count": null,
   "id": "4530a394",
   "metadata": {},
   "outputs": [],
   "source": [
    "lrpredictions= cross_val_predict(lr, X, y, cv=KFold(n_splits=10, shuffle=True, random_state=42))\n",
    "knnpredictions= cross_val_predict(knn, X, y, cv=KFold(n_splits=10, shuffle=True, random_state=42))\n",
    "rfpredictions= cross_val_predict(rf, X, y, cv=KFold(n_splits=10, shuffle=True, random_state=42))"
   ]
  },
  {
   "cell_type": "code",
   "execution_count": null,
   "id": "8c3f1ff9",
   "metadata": {},
   "outputs": [],
   "source": [
    "cnf_matrix_lr=metrics.confusion_matrix(y, lrpredictions)\n",
    "cnf_matrix_lr\n",
    "#Riley Dallas's Classification MetricII lecture"
   ]
  },
  {
   "cell_type": "code",
   "execution_count": null,
   "id": "4e7f871b",
   "metadata": {},
   "outputs": [],
   "source": [
    "# name  of classes\n",
    "fig, ax = plt.subplots()\n",
    "tick_marks = np.arange(len(y))\n",
    "plt.xticks(tick_marks, y)\n",
    "plt.yticks(tick_marks, y)\n",
    "# create heatmap\n",
    "sns.heatmap(pd.DataFrame(cnf_matrix_lr), annot=True, cmap=\"YlGnBu\" ,fmt='g')\n",
    "ax.xaxis.set_label_position(\"top\")\n",
    "plt.tight_layout()\n",
    "plt.title('Confusion Matrix for Logistic Regression', y=1.1)\n",
    "plt.ylabel('Actual Label')\n",
    "plt.xlabel('Predicted label')\n",
    "#Riley Dallas's Classification MetricII lecture"
   ]
  },
  {
   "cell_type": "code",
   "execution_count": null,
   "id": "ccb96110",
   "metadata": {},
   "outputs": [],
   "source": [
    "print(\"Accuracy:\",metrics.accuracy_score(y, lrpredictions))\n",
    "print(\"Precision:\",metrics.precision_score(y, lrpredictions))\n",
    "print(\"Recall:\",metrics.recall_score(y, lrpredictions))\n",
    "print(\"F1 Score:\", metrics.f1_score(y, lrpredictions))"
   ]
  },
  {
   "cell_type": "code",
   "execution_count": null,
   "id": "78157aef",
   "metadata": {},
   "outputs": [],
   "source": [
    "cnf_matrix_knn=metrics.confusion_matrix(y, knnpredictions)\n",
    "cnf_matrix_knn\n",
    "#Riley Dallas's Classification MetricII lecture"
   ]
  },
  {
   "cell_type": "code",
   "execution_count": null,
   "id": "03eb0de5",
   "metadata": {},
   "outputs": [],
   "source": [
    "# name  of classes\n",
    "fig, ax = plt.subplots()\n",
    "tick_marks = np.arange(len(y))\n",
    "plt.xticks(tick_marks, y)\n",
    "plt.yticks(tick_marks, y)\n",
    "# create heatmap\n",
    "sns.heatmap(pd.DataFrame(cnf_matrix_knn), annot=True, cmap=\"coolwarm\" ,fmt='g')\n",
    "ax.xaxis.set_label_position(\"top\")\n",
    "plt.tight_layout()\n",
    "plt.title('Confusion matrix for KNN Model', y=1.1)\n",
    "plt.ylabel('Actual Label')\n",
    "plt.xlabel('Predicted label')\n",
    "#Riley Dallas's Classification MetricII lecture"
   ]
  },
  {
   "cell_type": "code",
   "execution_count": null,
   "id": "4ee88678",
   "metadata": {},
   "outputs": [],
   "source": [
    "print(\"Accuracy:\",metrics.accuracy_score(y, knnpredictions))\n",
    "print(\"Precision:\",metrics.precision_score(y, knnpredictions))\n",
    "print(\"Recall:\",metrics.recall_score(y, knnpredictions))\n",
    "print(\"F1 Score:\", metrics.f1_score(y, knnpredictions))"
   ]
  },
  {
   "cell_type": "code",
   "execution_count": null,
   "id": "4e606910",
   "metadata": {},
   "outputs": [],
   "source": [
    "cnf_matrix_rf=metrics.confusion_matrix(y, rfpredictions)\n",
    "cnf_matrix_rf\n",
    "#Riley Dallas's Classification MetricII lecture"
   ]
  },
  {
   "cell_type": "code",
   "execution_count": null,
   "id": "edafab86",
   "metadata": {},
   "outputs": [],
   "source": [
    "# name  of classes\n",
    "fig, ax = plt.subplots()\n",
    "tick_marks = np.arange(len(y))\n",
    "plt.xticks(tick_marks, y)\n",
    "plt.yticks(tick_marks, y)\n",
    "# create heatmap\n",
    "sns.heatmap(pd.DataFrame(cnf_matrix_rf), annot=True, cmap=\"viridis\" ,fmt='g')\n",
    "ax.xaxis.set_label_position(\"top\")\n",
    "plt.tight_layout()\n",
    "plt.title('Confusion matrix for Random Forests', y=1.1)\n",
    "plt.ylabel('Actual')\n",
    "plt.xlabel('Predicted')\n",
    "#Riley Dallas's Classification MetricII lecture"
   ]
  },
  {
   "cell_type": "code",
   "execution_count": null,
   "id": "45b11a7f",
   "metadata": {},
   "outputs": [],
   "source": [
    "print(\"Accuracy:\",metrics.accuracy_score(y, rfpredictions))\n",
    "print(\"Precision:\",metrics.precision_score(y, rfpredictions))\n",
    "print(\"Recall:\",metrics.recall_score(y, rfpredictions))\n",
    "print(\"F1 Score:\", metrics.f1_score(y, rfpredictions))"
   ]
  },
  {
   "cell_type": "code",
   "execution_count": null,
   "id": "950d49f2",
   "metadata": {},
   "outputs": [],
   "source": [
    "X_train, X_test, y_train, y_test = train_test_split(X, y, test_size=.1, random_state=33)"
   ]
  },
  {
   "cell_type": "code",
   "execution_count": null,
   "id": "c02fad9f",
   "metadata": {},
   "outputs": [],
   "source": [
    "X.shape"
   ]
  },
  {
   "cell_type": "code",
   "execution_count": null,
   "id": "e60e1fb6",
   "metadata": {},
   "outputs": [],
   "source": [
    "ss = StandardScaler()\n",
    "X_train_sc = ss.fit_transform(X_train)\n",
    "X_test_sc = ss.transform(X_test)"
   ]
  },
  {
   "cell_type": "code",
   "execution_count": null,
   "id": "4840a794",
   "metadata": {},
   "outputs": [],
   "source": [
    "model = Sequential()\n",
    "model.add(Dense(16,\n",
    "                activation='relu',\n",
    "                input_shape=(7,)))\n",
    "\n",
    "#model will predict probability betwee .0 to 1\n",
    "#1 neuron, sigmoid turns into probability\n",
    "model.add(Dense(1, activation='sigmoid'))"
   ]
  },
  {
   "cell_type": "code",
   "execution_count": null,
   "id": "b4eb67d2",
   "metadata": {},
   "outputs": [],
   "source": [
    "# with accuracy as a metric\n",
    "model.compile(loss='binary_crossentropy',\n",
    "              optimizer='adam',\n",
    "              metrics=['accuracy']) # optional param, great for classification# with accuracy as a metric\n"
   ]
  },
  {
   "cell_type": "code",
   "execution_count": null,
   "id": "87c6305b",
   "metadata": {},
   "outputs": [],
   "source": [
    "res= model.fit(X_train, y_train, epochs=100,\n",
    "              batch_size=512,\n",
    "              validation_data=(X_test_sc, y_test),\n",
    "              verbose=0)#0 means don't print"
   ]
  },
  {
   "cell_type": "code",
   "execution_count": null,
   "id": "a9ac8db7",
   "metadata": {},
   "outputs": [],
   "source": [
    "res.history.keys()\n"
   ]
  },
  {
   "cell_type": "code",
   "execution_count": null,
   "id": "8e381fa9",
   "metadata": {},
   "outputs": [],
   "source": [
    "plt.plot(res.history['loss'], label='Train')\n",
    "plt.plot(res.history['val_loss'], label='Test')\n",
    "plt.legend();"
   ]
  },
  {
   "cell_type": "code",
   "execution_count": null,
   "id": "561905c7",
   "metadata": {},
   "outputs": [],
   "source": [
    "dftest2021WK1= pd.read_csv('./Data/2021_Week1.test.2020endinputs.csv')"
   ]
  },
  {
   "cell_type": "code",
   "execution_count": null,
   "id": "d127574e",
   "metadata": {},
   "outputs": [],
   "source": [
    "# features=['TotalDVOAteam1', 'WeightedDVOAteam1','Offense DVOAteam1', 'OffenseWeightedDVOAteam1', 'DefenseDVOAteam1',\n",
    "# 'DefenseWeightedDVOAteam1', 'Special Teams DVOA', 'SpecialTeamsWeightedDVOAteam1', 'Total DVOA',\n",
    "# 'Weighted DVOA Rank', 'Weighted DVOA', 'Offense DVOA Rank',\n",
    "# 'Offense DVOA', 'Offense Weighted DVOA', 'Defense DVOA',\n",
    "# 'Defense Weighted DVOA', 'Special Teams DVOA.1',\n",
    "# 'Special Teams Weighted DVOA', 'Home 1st team']\n",
    "features=['OffenseWeightedDVOAteam1', 'DefenseWeightedDVOAteam1', 'SpecialTeamsWeightedDVOAteam1', 'Offense Weighted DVOA', 'Defense Weighted DVOA', 'Special Teams Weighted DVOA', 'Home 1st team']\n",
    "\n",
    "target='W-L'\n",
    "\n",
    "Xvalidation1=dftest2021WK1[features]\n",
    "#No y as the first of NFL starts-predictions made prior to games"
   ]
  },
  {
   "cell_type": "code",
   "execution_count": null,
   "id": "340b0bab",
   "metadata": {},
   "outputs": [],
   "source": [
    "\n",
    "lr.fit(X, y)\n",
    "knn.fit(X,y)\n",
    "rf.fit(X,y)\n",
    "ss = StandardScaler()\n",
    "Xvalidation1_sc = ss.fit_transform(Xvalidation1)"
   ]
  },
  {
   "cell_type": "code",
   "execution_count": null,
   "id": "54f84656",
   "metadata": {},
   "outputs": [],
   "source": [
    "lrpred1 = lr.predict(Xvalidation1)\n",
    "knnpred1 = knn.predict(Xvalidation1)\n",
    "rfpred1 = rf.predict(Xvalidation1)\n",
    "nnpred1= model.predict(Xvalidation1)"
   ]
  },
  {
   "cell_type": "code",
   "execution_count": null,
   "id": "4f8b6b58",
   "metadata": {},
   "outputs": [],
   "source": [
    "dftest2021WK1.columns"
   ]
  },
  {
   "cell_type": "code",
   "execution_count": null,
   "id": "e62f790b",
   "metadata": {},
   "outputs": [],
   "source": [
    "\n",
    "\n",
    "dfbet=dftest2021WK1[['Team']]\n",
    "dfbet['LR Predictions']= lrpred1\n",
    "dfbet['KNN Predictions']=knnpred1\n",
    "dfbet['RF Predictions']=rfpred1\n",
    "dfbet['NN Predictions']=np.round(nnpred1)\n",
    "dfbet['Other Team']=dftest2021WK1[['Team 2']]\n",
    "dfbet"
   ]
  },
  {
   "cell_type": "code",
   "execution_count": null,
   "id": "8179566d",
   "metadata": {},
   "outputs": [],
   "source": []
  },
  {
   "cell_type": "code",
   "execution_count": null,
   "id": "6a4b53cf",
   "metadata": {},
   "outputs": [],
   "source": []
  }
 ],
 "metadata": {
  "kernelspec": {
   "display_name": "Python 3",
   "language": "python",
   "name": "python3"
  },
  "language_info": {
   "codemirror_mode": {
    "name": "ipython",
    "version": 3
   },
   "file_extension": ".py",
   "mimetype": "text/x-python",
   "name": "python",
   "nbconvert_exporter": "python",
   "pygments_lexer": "ipython3",
   "version": "3.8.8"
  }
 },
 "nbformat": 4,
 "nbformat_minor": 5
}
